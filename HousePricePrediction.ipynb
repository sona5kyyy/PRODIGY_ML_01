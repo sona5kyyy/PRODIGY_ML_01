{
  "nbformat": 4,
  "nbformat_minor": 0,
  "metadata": {
    "colab": {
      "provenance": [],
      "authorship_tag": "ABX9TyNIbJ2tIrb89Feqv9WAPYke",
      "include_colab_link": true
    },
    "kernelspec": {
      "name": "python3",
      "display_name": "Python 3"
    },
    "language_info": {
      "name": "python"
    }
  },
  "cells": [
    {
      "cell_type": "markdown",
      "metadata": {
        "id": "view-in-github",
        "colab_type": "text"
      },
      "source": [
        "<a href=\"https://colab.research.google.com/github/sona5kyyy/PRODIGY_ML_01/blob/main/HousePricePrediction.ipynb\" target=\"_parent\"><img src=\"https://colab.research.google.com/assets/colab-badge.svg\" alt=\"Open In Colab\"/></a>"
      ]
    },
    {
      "cell_type": "code",
      "source": [
        "import pandas as pd\n",
        "from sklearn.model_selection import train_test_split\n",
        "from sklearn.preprocessing import StandardScaler\n",
        "from sklearn.linear_model import LinearRegression\n",
        "from sklearn.metrics import mean_squared_error, r2_score\n",
        "\n",
        "# Load the dataset\n",
        "data = pd.read_csv('/content/housepp_test.csv' , delimiter = '\\t')\n",
        "\n",
        "# Display the first few rows to ensure it's loaded correctly\n",
        "print(\"First 5 rows of the dataset:\")\n",
        "print(data.head())\n",
        "\n",
        "# Step 1: Split the data into features (X) and target (y)\n",
        "X = data[['square_footage', 'bedrooms', 'bathrooms']]\n",
        "y = data['price']\n",
        "\n",
        "# Step 2: Split the data into training and testing sets\n",
        "X_train, X_test, y_train, y_test = train_test_split(X, y, test_size=0.2, random_state=42)\n",
        "\n",
        "# Step 3: Normalize the features (scaling)\n",
        "scaler = StandardScaler()\n",
        "\n",
        "# Fit the scaler on the training data and transform both training and test sets\n",
        "X_train_scaled = scaler.fit_transform(X_train)\n",
        "X_test_scaled = scaler.transform(X_test)\n",
        "\n",
        "# Step 4: Train the Linear Regression model\n",
        "model = LinearRegression()\n",
        "model.fit(X_train_scaled, y_train)\n",
        "\n",
        "# Step 5: Make predictions on the test data\n",
        "y_pred = model.predict(X_test_scaled)\n",
        "\n",
        "# Step 6: Display predicted vs actual prices for test data\n",
        "predicted_vs_actual = pd.DataFrame({\n",
        "    'Predicted Price': y_pred,\n",
        "    'Actual Price': y_test.values\n",
        "})\n",
        "print(\"\\nPredicted vs Actual Prices for Test Data:\")\n",
        "print(predicted_vs_actual.head())\n",
        "\n",
        "# Step 7: Evaluate the model\n",
        "mse = mean_squared_error(y_test, y_pred)\n",
        "r2 = r2_score(y_test, y_pred)\n",
        "\n",
        "print(f\"\\nMean Squared Error (MSE): {mse}\")\n",
        "print(f\"R-squared Score: {r2}\")\n",
        "\n",
        "# Step 8: Function to predict price for new data (new house)\n",
        "def predict_price(square_footage, bedrooms, bathrooms):\n",
        "    # Create a DataFrame for the new house data\n",
        "    new_house = pd.DataFrame({\n",
        "        'square_footage': [square_footage],\n",
        "        'bedrooms': [bedrooms],\n",
        "        'bathrooms': [bathrooms]\n",
        "    })\n",
        "\n",
        "    # Normalize the new house data using the existing scaler\n",
        "    new_house_scaled = scaler.transform(new_house)\n",
        "\n",
        "    # Predict the price using the trained model\n",
        "    predicted_price = model.predict(new_house_scaled)\n",
        "\n",
        "    # Return the predicted price\n",
        "    return predicted_price[0]\n",
        "\n",
        "# Step 9: Example: Predict price for a new house\n",
        "new_square_footage = 2500\n",
        "new_bedrooms = 4\n",
        "new_bathrooms = 3\n",
        "\n",
        "predicted_price = predict_price(new_square_footage, new_bedrooms, new_bathrooms)\n",
        "print(f\"\\nPredicted Price for a house with {new_square_footage} sqft, {new_bedrooms} bedrooms, and {new_bathrooms} bathrooms: ${predicted_price:.2f}\")\n"
      ],
      "metadata": {
        "colab": {
          "base_uri": "https://localhost:8080/"
        },
        "id": "4jN39K03QjIt",
        "outputId": "ed060592-5bfc-4984-e506-8ac09267085b"
      },
      "execution_count": 13,
      "outputs": [
        {
          "output_type": "stream",
          "name": "stdout",
          "text": [
            "First 5 rows of the dataset:\n",
            "   square_footage  bedrooms  bathrooms   price\n",
            "0            1500         3          2  250000\n",
            "1            2000         4          3  350000\n",
            "2            1800         3          2  300000\n",
            "3            2200         4          3  400000\n",
            "4            1600         3          2  270000\n",
            "\n",
            "Predicted vs Actual Prices for Test Data:\n",
            "   Predicted Price  Actual Price\n",
            "0    496400.471356        490000\n",
            "1    602943.255983        620000\n",
            "2    257827.229877        250000\n",
            "\n",
            "Mean Squared Error (MSE): 131054692.53265846\n",
            "R-squared Score: 0.9944205665430751\n",
            "\n",
            "Predicted Price for a house with 2500 sqft, 4 bedrooms, and 3 bathrooms: $458677.48\n"
          ]
        }
      ]
    }
  ]
}